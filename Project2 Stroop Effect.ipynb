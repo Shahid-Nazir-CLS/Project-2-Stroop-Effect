{
 "cells": [
  {
   "cell_type": "markdown",
   "metadata": {},
   "source": [
    "#  Stroop Effect"
   ]
  },
  {
   "cell_type": "markdown",
   "metadata": {},
   "source": [
    "In a Stroop task, participants are presented with a list of words, with each word displayed in a color of ink. The participant’s task is to say out loud the color of the ink in which the word is printed. The task has two conditions: a congruent words condition, and an incongruent words condition. In the congruent words condition, the words being displayed are color words whose names match the colors in which they are printed: for example <span style=\"color:#ff0000\">RED</span>, <span style=\"color:#0000ff\">BLUE</span>. In the incongruent words condition, the words displayed are color words whose names do not match the colors in which they are printed: for example <span style=\"color:#6AA84F\">PURPLE</span>, <span style=\"color:#674ea7\">ORANGE</span>. In each case, we measure the time it takes to name the ink colors in equally-sized lists. Each participant will go through and record a time from each condition."
   ]
  },
  {
   "cell_type": "markdown",
   "metadata": {},
   "source": [
    "In this project, we will investigate the Stroop Effect. We will learn a little bit about the experiment, create a hypothesis regarding the outcome of the task. We will then look at some data collected from others who have performed the same task and will compute some statistics describing the results. Finally, we will interpret our results in terms of our hypotheses."
   ]
  },
  {
   "cell_type": "markdown",
   "metadata": {},
   "source": [
    "#### 1. What is our independent variable? What is our dependent variable?\n",
    "- Independent variable: Word Condition(Congruent or Incongruent)<br/>\n",
    "- Dependent variable: The time taken to name the ink color of the words."
   ]
  },
  {
   "cell_type": "markdown",
   "metadata": {},
   "source": [
    "#### 2. What is an appropriate set of hypotheses for this task? What kind of statistical test do you expect to perform? Justify your choices.\n",
    "- Null Hypothesis($H_0$):The population averge time taken to name the ink color of incongruent  words is same or less than the population average time taken to name the ink color of congruent words.<br/>\n",
    "- Alternative Hypothesis($H_a$):The population averge time taken to name the ink color of the incongruent  words is more than the population average time taken to name the ink color of congruent words.<br/>\n",
    "$H_0:\\mu_i\\leq\\mu_c$<br/>\n",
    "$H_a:\\mu_i>\\mu_c$\n",
    "\n",
    "I will be performing a Depenedent samples t-Test because of following reasons:<br/>\n",
    "   1)the participants in both the conditions were same,<br/>\n",
    "   2)the sample size is 25 which is less than 30,<br/>\n",
    "   3)the population mean and standard deviation is unknown.<br/>\n",
    "The test will be a one tailed t-Test because my directional alternative hypothesis is that population average time taken to read incongruent words is more than population average time taken to read incongruent words. \n",
    "\n",
    "**Assumption**: We will assume a confidence level of 95%."
   ]
  },
  {
   "cell_type": "markdown",
   "metadata": {},
   "source": [
    "#### 3. Report some descriptive statistics regarding this dataset. Include at least one measure of central tendency and at least one measure of variability.\n",
    "- **Sample size** = 24\n",
    "\n",
    "\n",
    "- **Minimum value:**\n",
    "\n",
    "    Congruent: 8.63 , Incogruent: 15.687\n",
    "    \n",
    "\n",
    "- **Maximum value**\n",
    "\n",
    "    Congruent: 22.328 , Incogruent: 35.255\n",
    "\n",
    "\n",
    "- **Mean:**\n",
    "\n",
    "    Congruent: 14.05 , Incogruent: 22.02\n",
    "    \n",
    "\n",
    "- **Median:**\n",
    "\n",
    "    Congruent: 14.3565 , Incongruent: 21.0175\n",
    "    \n",
    "\n",
    "- **Variance:**\n",
    "\n",
    "    Congruent: 12.67 , Incongruent: 23.012\n",
    "    \n",
    "\n",
    "- **Sample standard deviation:**\n",
    "\n",
    "    Congruent: 3.56 , Incongruent: 4.80\n",
    "    "
   ]
  },
  {
   "cell_type": "code",
   "execution_count": 1,
   "metadata": {},
   "outputs": [
    {
     "data": {
      "text/html": [
       "<div>\n",
       "<style>\n",
       "    .dataframe thead tr:only-child th {\n",
       "        text-align: right;\n",
       "    }\n",
       "\n",
       "    .dataframe thead th {\n",
       "        text-align: left;\n",
       "    }\n",
       "\n",
       "    .dataframe tbody tr th {\n",
       "        vertical-align: top;\n",
       "    }\n",
       "</style>\n",
       "<table border=\"1\" class=\"dataframe\">\n",
       "  <thead>\n",
       "    <tr style=\"text-align: right;\">\n",
       "      <th></th>\n",
       "      <th>Congruent</th>\n",
       "      <th>Incongruent</th>\n",
       "    </tr>\n",
       "  </thead>\n",
       "  <tbody>\n",
       "    <tr>\n",
       "      <th>count</th>\n",
       "      <td>24.000000</td>\n",
       "      <td>24.000000</td>\n",
       "    </tr>\n",
       "    <tr>\n",
       "      <th>mean</th>\n",
       "      <td>14.051125</td>\n",
       "      <td>22.015917</td>\n",
       "    </tr>\n",
       "    <tr>\n",
       "      <th>std</th>\n",
       "      <td>3.559358</td>\n",
       "      <td>4.797057</td>\n",
       "    </tr>\n",
       "    <tr>\n",
       "      <th>min</th>\n",
       "      <td>8.630000</td>\n",
       "      <td>15.687000</td>\n",
       "    </tr>\n",
       "    <tr>\n",
       "      <th>25%</th>\n",
       "      <td>11.895250</td>\n",
       "      <td>18.716750</td>\n",
       "    </tr>\n",
       "    <tr>\n",
       "      <th>50%</th>\n",
       "      <td>14.356500</td>\n",
       "      <td>21.017500</td>\n",
       "    </tr>\n",
       "    <tr>\n",
       "      <th>75%</th>\n",
       "      <td>16.200750</td>\n",
       "      <td>24.051500</td>\n",
       "    </tr>\n",
       "    <tr>\n",
       "      <th>max</th>\n",
       "      <td>22.328000</td>\n",
       "      <td>35.255000</td>\n",
       "    </tr>\n",
       "  </tbody>\n",
       "</table>\n",
       "</div>"
      ],
      "text/plain": [
       "       Congruent  Incongruent\n",
       "count  24.000000    24.000000\n",
       "mean   14.051125    22.015917\n",
       "std     3.559358     4.797057\n",
       "min     8.630000    15.687000\n",
       "25%    11.895250    18.716750\n",
       "50%    14.356500    21.017500\n",
       "75%    16.200750    24.051500\n",
       "max    22.328000    35.255000"
      ]
     },
     "execution_count": 1,
     "metadata": {},
     "output_type": "execute_result"
    }
   ],
   "source": [
    "import pandas as pd\n",
    "\n",
    "#read csv in df\n",
    "df = pd.read_csv(\"stroopdata.csv\")\n",
    "\n",
    "#produce some very useful statistics about the data using describe method\n",
    "df.describe()"
   ]
  },
  {
   "cell_type": "code",
   "execution_count": 2,
   "metadata": {},
   "outputs": [
    {
     "name": "stdout",
     "output_type": "stream",
     "text": [
      "median of congruent condition samples is 14.3565\n",
      "median of incongruent condition samples is 21.0175\n",
      "variance of congruent condition samples is 12.669029070652174\n",
      "variance of incongruent condition samples is 23.011757036231884\n"
     ]
    }
   ],
   "source": [
    "#we will use median method of pandas to find the median of both columns\n",
    "print(\"median of congruent condition samples is {}\".format(df['Congruent'].median()))\n",
    "print(\"median of incongruent condition samples is {}\".format(df['Incongruent'].median()))\n",
    "\n",
    "#we will use var method of pandas to find the variance of both columns\n",
    "print(\"variance of congruent condition samples is {}\".format(df['Congruent'].var()))\n",
    "print(\"variance of incongruent condition samples is {}\".format(df['Incongruent'].var()))"
   ]
  },
  {
   "cell_type": "markdown",
   "metadata": {},
   "source": [
    "#### 4. Provide one or two visualizations that show the distribution of the sample data. Write one or two sentences noting what you observe about the plot or plots.\n",
    "\n",
    "Below are the histograms which show the distribution of congruent and incongruent conditions.\n",
    "\n",
    "From the histograms below, we can observe that the time taken to complete the test in incongruent condition is very often more while compared to time taken to complete test in congruent condition.\n",
    "\n",
    "Also we can see that the time required to complete the task in congruent condition ranges from about 9 seconds to about 22 seconds and for incongruent it ranges from about 16 seconds to about 35 seconds."
   ]
  },
  {
   "cell_type": "code",
   "execution_count": 14,
   "metadata": {},
   "outputs": [
    {
     "data": {
      "image/png": "[encoded data removed]",
      "text/plain": [
       "<matplotlib.figure.Figure at 0x29d7afe6160>"
      ]
     },
     "metadata": {},
     "output_type": "display_data"
    }
   ],
   "source": [
    "import matplotlib.pyplot as plt\n",
    "\n",
    "%matplotlib inline\n",
    "\n",
    "#we will set the range of x axis from 0 to maximum of maximum of congruent and incongruent columns\n",
    "maxrange = int(max(max(df['Congruent']),max(df['Incongruent'])))+5\n",
    "bins = [x for x in range(0,maxrange,1)]\n",
    "\n",
    "#histogram of distribution of congruent condition sample\n",
    "plt.hist(df['Congruent'], bins = bins, ec='black', range =(0,maxrange), color = 'b')\n",
    "plt.xlabel(\"time taken to complete task\")\n",
    "plt.ylabel(\"frequency of persons\")\n",
    "plt.xticks([x for x in range(0,maxrange,5)])\n",
    "plt.yticks([x for x in range(0,7,1)])\n",
    "plt.title(\"Distribution of congruent condition sample\")\n",
    "plt.grid(color='black',alpha=0.2)\n",
    "plt.show()"
   ]
  },
  {
   "cell_type": "code",
   "execution_count": 13,
   "metadata": {},
   "outputs": [
    {
     "data": {
      "image/png": "[encoded data removed]",
      "text/plain": [
       "<matplotlib.figure.Figure at 0x29d7afd75c0>"
      ]
     },
     "metadata": {},
     "output_type": "display_data"
    }
   ],
   "source": [
    "#histogram of distribution of incongruent condition sample\n",
    "\n",
    "plt.hist(df['Incongruent'], bins, ec='black', range =(0,maxrange), color = 'r')\n",
    "plt.xlabel(\"time taken to complete task\")\n",
    "plt.ylabel(\"frequency of persons\")\n",
    "plt.xticks([x for x in range(0,maxrange,5)])\n",
    "plt.yticks([x for x in range(0,7,1)])\n",
    "plt.title(\"Distribution of incongruent condition sample\")\n",
    "plt.grid(color='black',alpha=0.2)\n",
    "plt.show()"
   ]
  },
  {
   "cell_type": "markdown",
   "metadata": {},
   "source": [
    "#### 5. Now, perform the statistical test and report your results. What is your confidence level and your critical statistic value? Do you reject the null hypothesis or fail to reject it? Come to a conclusion in terms of the experiment task. Did the results match up with your expectations?\n",
    "\n",
    "**Level of significance**, $\\alpha$ = 1 - 0.95 = 0.05\n",
    "\n",
    "where 0.95 is the level of confidence\n",
    "\n",
    "**sample size**, n = 24\n",
    "\n",
    "**degrees of freedom**, n = 23\n",
    "\n",
    "**Decision Rule**:  We have a level of significance of 0.05 which means we are looking for the 5% values that are rare.\n",
    "So we need to find what t-score is associated with $\\alpha$ = 0.05 and then we will calculate t-statistic and if our t-statistic is greater than t-critical , we can conclude that our t-statistic is a rare score and is unlikely and we will reject the null hypothesis.\n",
    "\n",
    "**Calculate critical values**\n",
    "\n",
    "$    t_{0.05 @ 23df}$ = 1.714\n",
    "    \n",
    "\n",
    "**Calculate t-statistic**\n",
    "\n",
    "**mean difference**, $\\bar{d} = \\Sigma (y_i − x_c)/n$ = 7.964\n",
    "\n",
    "where $y_i$ is incongruent, $x_c$ is the congruent values, n is the sample set\n",
    "\n",
    "**standard deviation of difference**, sd = 4.86\n",
    "\n",
    "**standard error of the difference**, SE($\\bar{d}$) = sd/$\\sqrt{n}$ = 4.86/$\\sqrt{24}$ = 0.99\n",
    "\n",
    "**t-statistic**, T = $\\bar{d}$/SE($\\bar{d}$) = 7.964/0.99 = 8.04\n",
    "\n",
    "**Results** \n",
    "\n",
    "Since the t-value falls within the critical region and is far above the positive t-critical , we reject the null hypothesis at this level of significance.\n",
    "\n",
    "**Conclusion**\n",
    "\n",
    "The time to complete the task of reading incongruent words is significantly greater than the time required to complete the task of reading congruent words."
   ]
  },
  {
   "cell_type": "markdown",
   "metadata": {},
   "source": [
    "#### 6. Optional: What do you think is responsible for the effects observed? Can you think of an alternative or similar task that would result in a similar effect? Some research about the problem will be helpful for thinking about these two questions!\n",
    "\n",
    "I believe that the brain can’t help but read. As habitual readers, we encounter and comprehend words on such a persistent basis that the reading occurs almost effortlessly, whereas declaration of a color requires more cognitive effort. When there is a conflict between these two sources of information, our cognitive load is increased, and our brains have to work harder to resolve the required difference. Performing these tasks (preventing reading, processing word color, and resolving information conflict) ultimately slows down our responses, and makes the task take longer.<br/>\n",
    "\n",
    "Another similar task to the original Stroop test is Reverse Stroop test but in this test the participant is presented with a black square with the name of a colour printed in the middle but it is printed with a colour inconsistent with the printed word, for example the word blue will be printed in red. The black square will have four smaller squares in each corner and each of the smaller squares would be a different colour. The researcher would ask the participants to point to one of the smaller squares that is the same colour as the printed word in the middle, for example they would point at the red box because the word printed is in red but unsurprisingly enough participant do actually get this wrong. The effects of this test is very similar if not the same as the original Stroop test causing slower reaction and processing time.<img src='PBRStroop1.png'/>"
   ]
  },
  {
   "cell_type": "markdown",
   "metadata": {},
   "source": [
    "#### References\n",
    "\n",
    "https://en.wikipedia.org/wiki/Stroop_effect\n",
    "\n",
    "https://www.youtube.com/watch?v=EGpzftQf8oI\n",
    "\n",
    "https://faculty.washington.edu/chudler/words.html\n",
    "\n",
    "https://stats.idre.ucla.edu/other/mult-pkg/faq/general/faq-what-are-the-differences-between-one-tailed-and-two-tailed-tests/\n",
    "\n",
    "http://brainstormpsychology.blogspot.in/2013/08/the-stroop-effect.html\n"
   ]
  }
 ],
 "metadata": {
  "kernelspec": {
   "display_name": "Python 3",
   "language": "python",
   "name": "python3"
  },
  "language_info": {
   "codemirror_mode": {
    "name": "ipython",
    "version": 3
   },
   "file_extension": ".py",
   "mimetype": "text/x-python",
   "name": "python",
   "nbconvert_exporter": "python",
   "pygments_lexer": "ipython3",
   "version": "3.6.3"
  }
 },
 "nbformat": 4,
 "nbformat_minor": 2
}
